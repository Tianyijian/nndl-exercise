{
 "cells": [
  {
   "cell_type": "markdown",
   "metadata": {},
   "source": [
    "## 准备数据"
   ]
  },
  {
   "cell_type": "code",
   "execution_count": 6,
   "metadata": {},
   "outputs": [
    {
     "name": "stdout",
     "output_type": "stream",
     "text": [
      "(60000, 28, 28)\n"
     ]
    }
   ],
   "source": [
    "import os\n",
    "import numpy as np\n",
    "import tensorflow as tf\n",
    "from tensorflow import keras\n",
    "from tensorflow.keras import layers, optimizers, datasets\n",
    "\n",
    "os.environ['TF_CPP_MIN_LOG_LEVEL'] = '2'  # or any {'0', '1', '2'}\n",
    "\n",
    "def mnist_dataset():\n",
    "    (x, y), (x_test, y_test) = datasets.mnist.load_data()\n",
    "    #normalize\n",
    "    x = x/255.0\n",
    "    x_test = x_test/255.0\n",
    "    \n",
    "    return (x, y), (x_test, y_test)\n",
    "train_data, test_data = mnist_dataset()\n",
    "print(train_data[0].shape)"
   ]
  },
  {
   "cell_type": "code",
   "execution_count": 7,
   "metadata": {},
   "outputs": [
    {
     "name": "stdout",
     "output_type": "stream",
     "text": [
      "[(1, 'a'), (2, 'b'), (3, 'c'), (4, 'd')]\n"
     ]
    }
   ],
   "source": [
    "print(list(zip([1, 2, 3, 4], ['a', 'b', 'c', 'd'])))"
   ]
  },
  {
   "cell_type": "markdown",
   "metadata": {},
   "source": [
    "## 建立模型"
   ]
  },
  {
   "cell_type": "code",
   "execution_count": 8,
   "metadata": {},
   "outputs": [],
   "source": [
    "class myModel:\n",
    "    def __init__(self):\n",
    "        ####################\n",
    "        '''声明模型对应的参数'''\n",
    "        self.W1 = tf.compat.v1.get_variable(name=\"W1\", shape=(784, 100), initializer=tf.random_normal_initializer(), trainable=True)\n",
    "        self.W2 = tf.compat.v1.get_variable(name=\"W2\", shape=(100, 10), initializer=tf.random_normal_initializer(), trainable=True)\n",
    "        self.b1 = tf.compat.v1.get_variable(name=\"b1\", shape=(100, ),trainable=True)\n",
    "        self.b2 = tf.compat.v1.get_variable(name=\"b2\", shape=(10, ), trainable=True)\n",
    "#         self.W1 = tf.Variable(tf.random.truncated_normal([784, 100], stddev=0.1), trainable=True)\n",
    "#         self.W2 = tf.Variable(tf.random.truncated_normal([100, 10], stddev=0.1), trainable=True)\n",
    "#         self.b1 = tf.Variable(tf.constant(0.1, shape=[100]), trainable=True)\n",
    "#         self.b2 = tf.Variable(tf.constant(0.1, shape=[10]), trainable=True)\n",
    "        ####################\n",
    "    def __call__(self, x):\n",
    "        ####################\n",
    "        '''实现模型函数体，返回未归一化的logits'''\n",
    "        x_image = tf.reshape(x, [-1, 784])\n",
    "        h1 = tf.nn.relu(tf.matmul(x_image, self.W1) + self.b1)\n",
    "        logits = tf.matmul(h1, self.W2) + self.b2 #此处不加softmax\n",
    "        ####################\n",
    "        return logits\n",
    "        \n",
    "model = myModel()\n",
    "\n",
    "optimizer = optimizers.Adam()"
   ]
  },
  {
   "cell_type": "markdown",
   "metadata": {},
   "source": [
    "## 计算 loss"
   ]
  },
  {
   "cell_type": "code",
   "execution_count": 9,
   "metadata": {},
   "outputs": [],
   "source": [
    "@tf.function\n",
    "def compute_loss(logits, labels):\n",
    "    return tf.reduce_mean(\n",
    "        tf.nn.sparse_softmax_cross_entropy_with_logits(\n",
    "            logits=logits, labels=labels))\n",
    "\n",
    "@tf.function\n",
    "def compute_accuracy(logits, labels):\n",
    "    predictions = tf.argmax(logits, axis=1)\n",
    "    return tf.reduce_mean(tf.cast(tf.equal(predictions, labels), tf.float32))\n",
    "\n",
    "@tf.function\n",
    "def train_one_step(model, optimizer, x, y):\n",
    "    with tf.GradientTape() as tape:\n",
    "        logits = model(x)\n",
    "        loss = compute_loss(logits, y)\n",
    "    # compute gradient\n",
    "    trainable_vars = [model.W1, model.W2, model.b1, model.b2]\n",
    "    grads = tape.gradient(loss, trainable_vars)\n",
    "    \n",
    "    # 此处改用优化器进行优化\n",
    "    optimizer.apply_gradients(zip(grads, trainable_vars))\n",
    "\n",
    "#     for g, v in zip(grads, trainable_vars):\n",
    "#         v.assign_sub(0.01*g)\n",
    "\n",
    "    accuracy = compute_accuracy(logits, y)\n",
    "\n",
    "    # loss and accuracy is scalar tensor\n",
    "    return loss, accuracy\n",
    "\n",
    "@tf.function\n",
    "def test(model, x, y):\n",
    "    logits = model(x)\n",
    "    loss = compute_loss(logits, y)\n",
    "    accuracy = compute_accuracy(logits, y)\n",
    "    return loss, accuracy"
   ]
  },
  {
   "cell_type": "markdown",
   "metadata": {},
   "source": [
    "## 实际训练"
   ]
  },
  {
   "cell_type": "code",
   "execution_count": 10,
   "metadata": {},
   "outputs": [
    {
     "name": "stdout",
     "output_type": "stream",
     "text": [
      "epoch 0 : loss 2.3802025 ; accuracy 0.1143\n",
      "epoch 1 : loss 2.3169358 ; accuracy 0.14356667\n",
      "epoch 2 : loss 2.259407 ; accuracy 0.1941\n",
      "epoch 3 : loss 2.2057807 ; accuracy 0.23691666\n",
      "epoch 4 : loss 2.1543567 ; accuracy 0.285\n",
      "epoch 5 : loss 2.103952 ; accuracy 0.34595\n",
      "epoch 6 : loss 2.0538547 ; accuracy 0.40596667\n",
      "epoch 7 : loss 2.003636 ; accuracy 0.45405\n",
      "epoch 8 : loss 1.952961 ; accuracy 0.4926\n",
      "epoch 9 : loss 1.9015715 ; accuracy 0.52556664\n",
      "epoch 10 : loss 1.8492461 ; accuracy 0.5559667\n",
      "epoch 11 : loss 1.7959135 ; accuracy 0.58891666\n",
      "epoch 12 : loss 1.7416967 ; accuracy 0.62268335\n",
      "epoch 13 : loss 1.686889 ; accuracy 0.65456665\n",
      "epoch 14 : loss 1.6318784 ; accuracy 0.68513334\n",
      "epoch 15 : loss 1.5770636 ; accuracy 0.70996666\n",
      "epoch 16 : loss 1.5227565 ; accuracy 0.7306\n",
      "epoch 17 : loss 1.4691617 ; accuracy 0.74575\n",
      "epoch 18 : loss 1.416418 ; accuracy 0.75691664\n",
      "epoch 19 : loss 1.364606 ; accuracy 0.76641667\n",
      "epoch 20 : loss 1.3137909 ; accuracy 0.77346665\n",
      "epoch 21 : loss 1.2640873 ; accuracy 0.7802167\n",
      "epoch 22 : loss 1.215693 ; accuracy 0.7858\n",
      "epoch 23 : loss 1.1688522 ; accuracy 0.7908667\n",
      "epoch 24 : loss 1.1238208 ; accuracy 0.79553336\n",
      "epoch 25 : loss 1.0807852 ; accuracy 0.7996167\n",
      "epoch 26 : loss 1.039794 ; accuracy 0.80368334\n",
      "epoch 27 : loss 1.0007768 ; accuracy 0.8072\n",
      "epoch 28 : loss 0.9636381 ; accuracy 0.8107333\n",
      "epoch 29 : loss 0.9283184 ; accuracy 0.8143167\n",
      "epoch 30 : loss 0.89481026 ; accuracy 0.81745\n",
      "epoch 31 : loss 0.8631178 ; accuracy 0.8217667\n",
      "epoch 32 : loss 0.83325183 ; accuracy 0.82575\n",
      "epoch 33 : loss 0.8051848 ; accuracy 0.82926667\n",
      "epoch 34 : loss 0.7788401 ; accuracy 0.83285\n",
      "epoch 35 : loss 0.7541057 ; accuracy 0.8355833\n",
      "epoch 36 : loss 0.7308712 ; accuracy 0.83828336\n",
      "epoch 37 : loss 0.709034 ; accuracy 0.8408833\n",
      "epoch 38 : loss 0.68851656 ; accuracy 0.8436667\n",
      "epoch 39 : loss 0.6692499 ; accuracy 0.8461667\n",
      "epoch 40 : loss 0.65116656 ; accuracy 0.8482\n",
      "epoch 41 : loss 0.63419193 ; accuracy 0.8505333\n",
      "epoch 42 : loss 0.6182437 ; accuracy 0.8523333\n",
      "epoch 43 : loss 0.6032364 ; accuracy 0.8547\n",
      "epoch 44 : loss 0.5890935 ; accuracy 0.85675\n",
      "epoch 45 : loss 0.5757543 ; accuracy 0.8588\n",
      "epoch 46 : loss 0.5631713 ; accuracy 0.8612\n",
      "epoch 47 : loss 0.5513025 ; accuracy 0.8634\n",
      "epoch 48 : loss 0.5401009 ; accuracy 0.8656833\n",
      "epoch 49 : loss 0.52951443 ; accuracy 0.86758333\n",
      "test loss 0.5014217 ; accuracy 0.8797\n"
     ]
    }
   ],
   "source": [
    "train_data, test_data = mnist_dataset()\n",
    "for epoch in range(50):\n",
    "    loss, accuracy = train_one_step(model, optimizer, \n",
    "                                    tf.constant(train_data[0], dtype=tf.float32), \n",
    "                                    tf.constant(train_data[1], dtype=tf.int64))\n",
    "    print('epoch', epoch, ': loss', loss.numpy(), '; accuracy', accuracy.numpy())\n",
    "loss, accuracy = test(model, \n",
    "                      tf.constant(test_data[0], dtype=tf.float32), \n",
    "                      tf.constant(test_data[1], dtype=tf.int64))\n",
    "\n",
    "print('test loss', loss.numpy(), '; accuracy', accuracy.numpy())"
   ]
  }
 ],
 "metadata": {
  "kernelspec": {
   "display_name": "Python [conda env:conda-py36]",
   "language": "python",
   "name": "conda-env-conda-py36-py"
  },
  "language_info": {
   "codemirror_mode": {
    "name": "ipython",
    "version": 3
   },
   "file_extension": ".py",
   "mimetype": "text/x-python",
   "name": "python",
   "nbconvert_exporter": "python",
   "pygments_lexer": "ipython3",
   "version": "3.6.9"
  }
 },
 "nbformat": 4,
 "nbformat_minor": 2
}
